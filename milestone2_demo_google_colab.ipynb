{
  "nbformat": 4,
  "nbformat_minor": 0,
  "metadata": {
    "colab": {
      "provenance": [],
      "gpuType": "T4"
    },
    "kernelspec": {
      "name": "python3",
      "display_name": "Python 3"
    },
    "language_info": {
      "name": "python"
    },
    "accelerator": "GPU"
  },
  "cells": [
    {
      "cell_type": "code",
      "source": [
        "!pip -q install deepface==0.0.93 retina-face==0.0.14 mtcnn==0.1.1 \\\n",
        "               opencv-python==4.10.0.84 numpy==1.26.4 pandas==2.2.2 \\\n",
        "               faiss-cpu==1.8.0.post1 --no-cache-dir"
      ],
      "metadata": {
        "id": "bSA8GgPOE26T"
      },
      "execution_count": 1,
      "outputs": []
    },
    {
      "cell_type": "code",
      "source": [
        "PATH_TO_SCRIPT = \"drive/MyDrive/EE782_A2\""
      ],
      "metadata": {
        "id": "EYZqLXR6YSOp"
      },
      "execution_count": 2,
      "outputs": []
    },
    {
      "cell_type": "code",
      "source": [
        "from google.colab import drive\n",
        "drive.mount('/content/drive', force_remount=True)"
      ],
      "metadata": {
        "colab": {
          "base_uri": "https://localhost:8080/"
        },
        "id": "SupJwKoY7jMJ",
        "outputId": "14f5011b-39c2-478a-dfcf-fc517685c2a5"
      },
      "execution_count": 3,
      "outputs": [
        {
          "output_type": "stream",
          "name": "stdout",
          "text": [
            "Mounted at /content/drive\n"
          ]
        }
      ]
    },
    {
      "cell_type": "code",
      "source": [
        "import cv2\n",
        "import pickle\n",
        "import sys, os\n",
        "from pathlib import Path\n",
        "from datetime import datetime\n",
        "\n",
        "sys.path.append(PATH_TO_SCRIPT)\n",
        "\n",
        "from milestone2 import tree, read_bgr, get_embedding, cosine_sim, list_images, build_enrollment_db, build_person_prototypes, identify_image, record_webcam\n",
        "\n",
        "\n",
        "\n"
      ],
      "metadata": {
        "id": "bQ1JTSet70fN"
      },
      "execution_count": 9,
      "outputs": []
    },
    {
      "cell_type": "code",
      "source": [
        "THRESHOLD = 0.50  # cosine similarity threshold (tune on your data)\n",
        "\n",
        "\n",
        "BASE = Path(\"drive/MyDrive/EE782_A2\")\n",
        "ENROLL_DIR = BASE/\"enroll\"\n",
        "TEST_DIR   = BASE/\"test\"\n",
        "WEBCAM_VIDEOS_DIR =  BASE/\"webcam_videos\"\n",
        "FRAMES_DIR = BASE/\"frames\"\n",
        "\n",
        "ENROLL_DIR.mkdir(parents=True, exist_ok=True)\n",
        "TEST_DIR.mkdir(parents=True, exist_ok=True)\n",
        "WEBCAM_VIDEOS_DIR.mkdir(parents=True, exist_ok=True)\n",
        "FRAMES_DIR.mkdir(parents=True, exist_ok=True)\n",
        "\n",
        "print(\"Enrollment folder :\", ENROLL_DIR)\n",
        "print(\"Test folder       :\", TEST_DIR)\n",
        "print(\"Webcam Videos     :\", WEBCAM_VIDEOS_DIR)\n",
        "print(\"Frames     :\", FRAMES_DIR)\n",
        "\n",
        "\n",
        "\n",
        "EMB_CACHE  = f\"{BASE}/face_db.pkl\"\n",
        "DISTANCE   = \"cosine\""
      ],
      "metadata": {
        "colab": {
          "base_uri": "https://localhost:8080/"
        },
        "id": "ChXVQSbhUJxR",
        "outputId": "e2bd6aa0-df9a-447f-8176-e00cc23ff74e"
      },
      "execution_count": 5,
      "outputs": [
        {
          "output_type": "stream",
          "name": "stdout",
          "text": [
            "Enrollment folder : drive/MyDrive/EE782_A2/enroll\n",
            "Test folder       : drive/MyDrive/EE782_A2/test\n",
            "Webcam Videos     : drive/MyDrive/EE782_A2/webcam_videos\n",
            "Frames     : drive/MyDrive/EE782_A2/frames\n"
          ]
        }
      ]
    },
    {
      "cell_type": "code",
      "source": [
        "if Path(EMB_CACHE).exists():\n",
        "  with open(EMB_CACHE, \"rb\") as f:\n",
        "    db_df = pickle.load(f)\n",
        "else:\n",
        "  db_df = build_enrollment_db(enroll_dir=ENROLL_DIR, out_path=EMB_CACHE)\n",
        "print(db_df.head())"
      ],
      "metadata": {
        "colab": {
          "base_uri": "https://localhost:8080/"
        },
        "id": "mfkHAG1zZ_Bb",
        "outputId": "a5b7df9f-a765-4263-c21c-d337b714bd95"
      },
      "execution_count": 10,
      "outputs": [
        {
          "output_type": "stream",
          "name": "stdout",
          "text": [
            "     person                                           img_path  \\\n",
            "0    sameer    drive/MyDrive/EE782_A2/enroll/sameer/Sameer.jpg   \n",
            "1  souparna  drive/MyDrive/EE782_A2/enroll/souparna/Souparn...   \n",
            "\n",
            "                                           embedding  \n",
            "0  [0.026221925, 0.029495025, 0.015111535, -0.016...  \n",
            "1  [-0.027930845, 0.1080185, -0.026532196, -0.099...  \n"
          ]
        }
      ]
    },
    {
      "cell_type": "code",
      "source": [
        "PERSON_PROTOS = build_person_prototypes(db_df)"
      ],
      "metadata": {
        "id": "eZgpbLe2ZfqL"
      },
      "execution_count": 11,
      "outputs": []
    },
    {
      "cell_type": "code",
      "source": [
        "timestamp = datetime.now().strftime(\"%Y-%m-%d %H:%M:%S\")\n",
        "webcam_video_path = WEBCAM_VIDEOS_DIR/f\"video_{timestamp}\"\n",
        "record_webcam(out_path=webcam_video_path, seconds=2)"
      ],
      "metadata": {
        "colab": {
          "base_uri": "https://localhost:8080/",
          "height": 34
        },
        "id": "ikq7-1euVP07",
        "outputId": "8f214f49-7e1a-455e-a439-58c2cc07b962"
      },
      "execution_count": 12,
      "outputs": [
        {
          "output_type": "display_data",
          "data": {
            "text/plain": [
              "<IPython.core.display.Javascript object>"
            ],
            "application/javascript": [
              "\n",
              "    async function recordVideo(seconds) {\n",
              "      const stream = await navigator.mediaDevices.getUserMedia({video: true, audio: true});\n",
              "      const rec = new MediaRecorder(stream, {mimeType: 'video/webm'});\n",
              "      let data = [];\n",
              "      rec.ondataavailable = e => data.push(e.data);\n",
              "      rec.start();\n",
              "\n",
              "      // Simple on-screen timer\n",
              "      const div = document.createElement('div');\n",
              "      div.style = 'position:fixed;top:16px;left:16px;background:#0008;color:#fff;padding:8px 12px;border-radius:8px;z-index:9999;font:14px sans-serif';\n",
              "      document.body.appendChild(div);\n",
              "\n",
              "      let t = seconds;\n",
              "      const tick = setInterval(()=>{ div.textContent = `Recording... ${t}s`; t--;}, 1000);\n",
              "\n",
              "      await new Promise(r => setTimeout(r, seconds * 1000));\n",
              "      rec.stop();\n",
              "      await new Promise(r => rec.onstop = r);\n",
              "      clearInterval(tick);\n",
              "      document.body.removeChild(div);\n",
              "\n",
              "      stream.getTracks().forEach(t => t.stop());\n",
              "      const blob = new Blob(data, {type: 'video/webm'});\n",
              "      const reader = new FileReader();\n",
              "      reader.readAsDataURL(blob);\n",
              "      await new Promise(r => reader.onloadend = r);\n",
              "      return reader.result; // dataURL\n",
              "    }\n",
              "    "
            ]
          },
          "metadata": {}
        },
        {
          "output_type": "execute_result",
          "data": {
            "text/plain": [
              "PosixPath('drive/MyDrive/EE782_A2/webcam_videos/video_2025-10-10 18:37:29')"
            ]
          },
          "metadata": {},
          "execution_count": 12
        }
      ]
    },
    {
      "cell_type": "code",
      "source": [
        "stride = 5  # save every 5th frame; use 1 to save all\n",
        "\n",
        "FRAMES_OUT_DIR = FRAMES_DIR/f\"frames_{timestamp}\"\n",
        "FRAMES_OUT_DIR.mkdir(parents=True, exist_ok=True)\n",
        "\n",
        "cap = cv2.VideoCapture(webcam_video_path)\n",
        "i = 0\n",
        "saved = 0\n",
        "\n",
        "while True:\n",
        "    ret, frame = cap.read()\n",
        "    if not ret:\n",
        "        break\n",
        "    if i % stride == 0:\n",
        "        cv2.imwrite(FRAMES_OUT_DIR/f\"frame_{i:05d}.jpg\", frame)\n",
        "        saved += 1\n",
        "    i += 1\n",
        "cap.release()\n",
        "print(f\"Saved {saved} frames to {FRAMES_OUT_DIR}\")"
      ],
      "metadata": {
        "colab": {
          "base_uri": "https://localhost:8080/"
        },
        "id": "yXrVKL24cWN_",
        "outputId": "e31ca818-e982-4b2a-fc79-ac5e7c9f34c0"
      },
      "execution_count": 13,
      "outputs": [
        {
          "output_type": "stream",
          "name": "stdout",
          "text": [
            "Saved 12 frames to drive/MyDrive/EE782_A2/frames/frames_2025-10-10 18:37:29\n"
          ]
        }
      ]
    },
    {
      "cell_type": "code",
      "source": [
        "for test_img_path in FRAMES_OUT_DIR.iterdir():\n",
        "  if test_img_path.exists():\n",
        "    who, score = identify_image(test_img_path, threshold=THRESHOLD, person_protos=PERSON_PROTOS)\n",
        "    print(f\"Result: {who} (cos sim={score:.3f})\")\n",
        "    print(\"Action:\", \"WELCOME\" if who != \"Unknown\" else \"ALERT: Unrecognized\")\n",
        "else:\n",
        "    print(\"Set test_path to an image path under /content/test to try this cell.\")"
      ],
      "metadata": {
        "colab": {
          "base_uri": "https://localhost:8080/"
        },
        "id": "8aZu0lUqY_1w",
        "outputId": "339c95cf-b114-43a2-87fb-25f57b785a53"
      },
      "execution_count": 14,
      "outputs": [
        {
          "output_type": "stream",
          "name": "stdout",
          "text": [
            "Result: Unknown (cos sim=0.145)\n",
            "Action: ALERT: Unrecognized\n",
            "Result: Unknown (cos sim=0.151)\n",
            "Action: ALERT: Unrecognized\n",
            "Result: Unknown (cos sim=0.139)\n",
            "Action: ALERT: Unrecognized\n",
            "Result: Unknown (cos sim=0.127)\n",
            "Action: ALERT: Unrecognized\n",
            "Result: Unknown (cos sim=0.139)\n",
            "Action: ALERT: Unrecognized\n",
            "Result: Unknown (cos sim=0.126)\n",
            "Action: ALERT: Unrecognized\n",
            "Result: Unknown (cos sim=0.145)\n",
            "Action: ALERT: Unrecognized\n",
            "Result: Unknown (cos sim=0.127)\n",
            "Action: ALERT: Unrecognized\n",
            "Result: Unknown (cos sim=0.122)\n",
            "Action: ALERT: Unrecognized\n",
            "Result: Unknown (cos sim=0.129)\n",
            "Action: ALERT: Unrecognized\n",
            "Result: Unknown (cos sim=0.110)\n",
            "Action: ALERT: Unrecognized\n",
            "Result: Unknown (cos sim=0.126)\n",
            "Action: ALERT: Unrecognized\n",
            "Set test_path to an image path under /content/test to try this cell.\n"
          ]
        }
      ]
    },
    {
      "cell_type": "code",
      "source": [],
      "metadata": {
        "id": "PtSgM_jhagQu"
      },
      "execution_count": null,
      "outputs": []
    }
  ]
}